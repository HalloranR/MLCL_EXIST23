{
 "cells": [
  {
   "cell_type": "code",
   "execution_count": 1,
   "metadata": {},
   "outputs": [
    {
     "name": "stderr",
     "output_type": "stream",
     "text": [
      "/u/athbagde/anaconda3/envs/CL/lib/python3.10/site-packages/tqdm/auto.py:21: TqdmWarning: IProgress not found. Please update jupyter and ipywidgets. See https://ipywidgets.readthedocs.io/en/stable/user_install.html\n",
      "  from .autonotebook import tqdm as notebook_tqdm\n",
      "2023-04-17 12:25:31.956456: I tensorflow/core/platform/cpu_feature_guard.cc:193] This TensorFlow binary is optimized with oneAPI Deep Neural Network Library (oneDNN) to use the following CPU instructions in performance-critical operations:  SSE4.1 SSE4.2 AVX AVX2 AVX512F AVX512_VNNI FMA\n",
      "To enable them in other operations, rebuild TensorFlow with the appropriate compiler flags.\n"
     ]
    }
   ],
   "source": [
    "import torch\n",
    "from transformers import AutoTokenizer, RobertaForSequenceClassification, AutoModelForSequenceClassification\n",
    "from transformers import pipeline\n",
    "import evaluate\n",
    "from evaluate import evaluator\n",
    "import json\n",
    "import pandas as pd\n",
    "from datasets import Dataset\n"
   ]
  },
  {
   "cell_type": "code",
   "execution_count": 2,
   "metadata": {},
   "outputs": [],
   "source": [
    "f = open ('/u/athbagde/ML_CL/EXIST 2023 Dataset 2/dev/EXIST2023_dev.json', \"r\")\n",
    "  \n",
    "# Reading from file\n",
    "data = json.loads(f.read())"
   ]
  },
  {
   "cell_type": "code",
   "execution_count": 3,
   "metadata": {},
   "outputs": [],
   "source": [
    "val_training_set  = pd.DataFrame(columns=['id','text','lang','sex','age','s_label','t2_lb','t3_lb'])"
   ]
  },
  {
   "cell_type": "code",
   "execution_count": 4,
   "metadata": {},
   "outputs": [],
   "source": [
    "for id in data:\n",
    "    sample = data[id]\n",
    "    val_training_set.loc[len(val_training_set.index)] = [sample['id_EXIST'],sample['tweet'],\n",
    "                                                sample['lang'],sample['gender_annotators'],\n",
    "                                                sample['age_annotators'],sample['labels_task1'],\n",
    "                                                sample['labels_task2'],sample['labels_task3']\n",
    "                                                ]"
   ]
  },
  {
   "cell_type": "code",
   "execution_count": 5,
   "metadata": {},
   "outputs": [],
   "source": [
    "val_data =  val_training_set.set_index(['id','text','lang']).apply(pd.Series.explode).reset_index()"
   ]
  },
  {
   "cell_type": "code",
   "execution_count": 6,
   "metadata": {},
   "outputs": [
    {
     "name": "stderr",
     "output_type": "stream",
     "text": [
      "/tmp/ipykernel_118175/3758193207.py:3: SettingWithCopyWarning: \n",
      "A value is trying to be set on a copy of a slice from a DataFrame.\n",
      "Try using .loc[row_indexer,col_indexer] = value instead\n",
      "\n",
      "See the caveats in the documentation: https://pandas.pydata.org/pandas-docs/stable/user_guide/indexing.html#returning-a-view-versus-a-copy\n",
      "  val_set['label'] = val_set['s_label'].map(map_dict)\n"
     ]
    }
   ],
   "source": [
    "val_set = val_data[['text','s_label']]\n",
    "map_dict = {\"YES\":1,\"NO\":0}\n",
    "val_set['label'] = val_set['s_label'].map(map_dict)\n",
    "val_set = val_set[['text','label']]\n",
    "val_ds = Dataset.from_pandas(val_set)"
   ]
  },
  {
   "cell_type": "code",
   "execution_count": 8,
   "metadata": {},
   "outputs": [
    {
     "data": {
      "text/html": [
       "<div>\n",
       "<style scoped>\n",
       "    .dataframe tbody tr th:only-of-type {\n",
       "        vertical-align: middle;\n",
       "    }\n",
       "\n",
       "    .dataframe tbody tr th {\n",
       "        vertical-align: top;\n",
       "    }\n",
       "\n",
       "    .dataframe thead th {\n",
       "        text-align: right;\n",
       "    }\n",
       "</style>\n",
       "<table border=\"1\" class=\"dataframe\">\n",
       "  <thead>\n",
       "    <tr style=\"text-align: right;\">\n",
       "      <th></th>\n",
       "      <th>text</th>\n",
       "      <th>label</th>\n",
       "    </tr>\n",
       "  </thead>\n",
       "  <tbody>\n",
       "    <tr>\n",
       "      <th>0</th>\n",
       "      <td>@Fichinescu La comunidad gamer es un antro de ...</td>\n",
       "      <td>0</td>\n",
       "    </tr>\n",
       "    <tr>\n",
       "      <th>1</th>\n",
       "      <td>@Fichinescu La comunidad gamer es un antro de ...</td>\n",
       "      <td>1</td>\n",
       "    </tr>\n",
       "    <tr>\n",
       "      <th>2</th>\n",
       "      <td>@Fichinescu La comunidad gamer es un antro de ...</td>\n",
       "      <td>1</td>\n",
       "    </tr>\n",
       "    <tr>\n",
       "      <th>3</th>\n",
       "      <td>@Fichinescu La comunidad gamer es un antro de ...</td>\n",
       "      <td>0</td>\n",
       "    </tr>\n",
       "    <tr>\n",
       "      <th>4</th>\n",
       "      <td>@Fichinescu La comunidad gamer es un antro de ...</td>\n",
       "      <td>1</td>\n",
       "    </tr>\n",
       "    <tr>\n",
       "      <th>...</th>\n",
       "      <td>...</td>\n",
       "      <td>...</td>\n",
       "    </tr>\n",
       "    <tr>\n",
       "      <th>6223</th>\n",
       "      <td>@ElDukemane You look like a whore in ur new pi...</td>\n",
       "      <td>1</td>\n",
       "    </tr>\n",
       "    <tr>\n",
       "      <th>6224</th>\n",
       "      <td>@ElDukemane You look like a whore in ur new pi...</td>\n",
       "      <td>1</td>\n",
       "    </tr>\n",
       "    <tr>\n",
       "      <th>6225</th>\n",
       "      <td>@ElDukemane You look like a whore in ur new pi...</td>\n",
       "      <td>1</td>\n",
       "    </tr>\n",
       "    <tr>\n",
       "      <th>6226</th>\n",
       "      <td>@ElDukemane You look like a whore in ur new pi...</td>\n",
       "      <td>1</td>\n",
       "    </tr>\n",
       "    <tr>\n",
       "      <th>6227</th>\n",
       "      <td>@ElDukemane You look like a whore in ur new pi...</td>\n",
       "      <td>1</td>\n",
       "    </tr>\n",
       "  </tbody>\n",
       "</table>\n",
       "<p>6228 rows × 2 columns</p>\n",
       "</div>"
      ],
      "text/plain": [
       "                                                   text  label\n",
       "0     @Fichinescu La comunidad gamer es un antro de ...      0\n",
       "1     @Fichinescu La comunidad gamer es un antro de ...      1\n",
       "2     @Fichinescu La comunidad gamer es un antro de ...      1\n",
       "3     @Fichinescu La comunidad gamer es un antro de ...      0\n",
       "4     @Fichinescu La comunidad gamer es un antro de ...      1\n",
       "...                                                 ...    ...\n",
       "6223  @ElDukemane You look like a whore in ur new pi...      1\n",
       "6224  @ElDukemane You look like a whore in ur new pi...      1\n",
       "6225  @ElDukemane You look like a whore in ur new pi...      1\n",
       "6226  @ElDukemane You look like a whore in ur new pi...      1\n",
       "6227  @ElDukemane You look like a whore in ur new pi...      1\n",
       "\n",
       "[6228 rows x 2 columns]"
      ]
     },
     "execution_count": 8,
     "metadata": {},
     "output_type": "execute_result"
    }
   ],
   "source": [
    "val_set"
   ]
  },
  {
   "cell_type": "code",
   "execution_count": 9,
   "metadata": {},
   "outputs": [],
   "source": [
    "tokenizer = AutoTokenizer.from_pretrained('/u/athbagde/ML_CL/model1')"
   ]
  },
  {
   "cell_type": "code",
   "execution_count": 10,
   "metadata": {},
   "outputs": [],
   "source": [
    "model =  AutoModelForSequenceClassification.from_pretrained('/u/athbagde/ML_CL/model1')\n",
    "metrics = evaluate.combine([\"accuracy\", \"f1\", \"precision\", \"recall\"])"
   ]
  },
  {
   "cell_type": "code",
   "execution_count": 11,
   "metadata": {},
   "outputs": [],
   "source": [
    "task_evaluator = evaluator(\"text-classification\")\n",
    "eval_results = task_evaluator.compute(\n",
    "    model_or_pipeline=\"/u/athbagde/ML_CL/model1\",\n",
    "    data=val_ds,\n",
    "    label_mapping={\"LABEL_0\": 0, \"LABEL_1\": 1},\n",
    "    tokenizer=tokenizer,\n",
    "    metric= metrics\n",
    ")"
   ]
  },
  {
   "cell_type": "code",
   "execution_count": 12,
   "metadata": {},
   "outputs": [
    {
     "name": "stdout",
     "output_type": "stream",
     "text": [
      "{'accuracy': 0.7459858702633269, 'f1': 0.7333108563722184, 'precision': 0.7413087934560327, 'recall': 0.7254836557705137, 'total_time_in_seconds': 70.26742511498742, 'samples_per_second': 88.63281940114273, 'latency_in_seconds': 0.011282502426940818}\n"
     ]
    }
   ],
   "source": [
    "print(eval_results)"
   ]
  },
  {
   "cell_type": "markdown",
   "metadata": {},
   "source": [
    "## Evaluating using different val_sets"
   ]
  },
  {
   "cell_type": "markdown",
   "metadata": {},
   "source": [
    "### ES only model"
   ]
  },
  {
   "cell_type": "code",
   "execution_count": 13,
   "metadata": {},
   "outputs": [],
   "source": [
    "val_set = val_data.loc[val_data['lang']=='es']\n",
    "val_set = val_set[['text','s_label']]\n",
    "map_dict = {\"YES\":1,\"NO\":0}\n",
    "val_set['label'] = val_set['s_label'].map(map_dict)\n",
    "val_set = val_set[['text','label']]\n",
    "val_ds = Dataset.from_pandas(val_set)"
   ]
  },
  {
   "cell_type": "code",
   "execution_count": 14,
   "metadata": {},
   "outputs": [],
   "source": [
    "model =  AutoModelForSequenceClassification.from_pretrained('/u/athbagde/ML_CL/es_only_model1')\n",
    "tokenizer = AutoTokenizer.from_pretrained('/u/athbagde/ML_CL/es_only_model1')"
   ]
  },
  {
   "cell_type": "code",
   "execution_count": 15,
   "metadata": {},
   "outputs": [],
   "source": [
    "task_evaluator = evaluator(\"text-classification\")\n",
    "eval_results = task_evaluator.compute(\n",
    "    model_or_pipeline=model,\n",
    "    data=val_ds,\n",
    "    label_mapping={\"LABEL_0\": 0, \"LABEL_1\": 1},\n",
    "    tokenizer=tokenizer,\n",
    "    metric= metrics\n",
    ")"
   ]
  },
  {
   "cell_type": "code",
   "execution_count": 16,
   "metadata": {},
   "outputs": [
    {
     "name": "stdout",
     "output_type": "stream",
     "text": [
      "{'accuracy': 0.7240437158469946, 'f1': 0.7297056199821589, 'precision': 0.7329749103942652, 'recall': 0.7264653641207816, 'total_time_in_seconds': 36.6687402180396, 'samples_per_second': 89.83128355141798, 'latency_in_seconds': 0.011131979422598543}\n"
     ]
    }
   ],
   "source": [
    "print(eval_results)"
   ]
  },
  {
   "cell_type": "markdown",
   "metadata": {},
   "source": [
    "## EN only model"
   ]
  },
  {
   "cell_type": "code",
   "execution_count": 17,
   "metadata": {},
   "outputs": [],
   "source": [
    "val_set = val_data.loc[val_data['lang']=='en']\n",
    "val_set = val_set[['text','s_label']]\n",
    "map_dict = {\"YES\":1,\"NO\":0}\n",
    "val_set['label'] = val_set['s_label'].map(map_dict)\n",
    "val_set = val_set[['text','label']]\n",
    "val_ds = Dataset.from_pandas(val_set)"
   ]
  },
  {
   "cell_type": "code",
   "execution_count": 18,
   "metadata": {},
   "outputs": [
    {
     "data": {
      "text/html": [
       "<div>\n",
       "<style scoped>\n",
       "    .dataframe tbody tr th:only-of-type {\n",
       "        vertical-align: middle;\n",
       "    }\n",
       "\n",
       "    .dataframe tbody tr th {\n",
       "        vertical-align: top;\n",
       "    }\n",
       "\n",
       "    .dataframe thead th {\n",
       "        text-align: right;\n",
       "    }\n",
       "</style>\n",
       "<table border=\"1\" class=\"dataframe\">\n",
       "  <thead>\n",
       "    <tr style=\"text-align: right;\">\n",
       "      <th></th>\n",
       "      <th>text</th>\n",
       "      <th>label</th>\n",
       "    </tr>\n",
       "  </thead>\n",
       "  <tbody>\n",
       "    <tr>\n",
       "      <th>3294</th>\n",
       "      <td>@Mike_Fabricant “You should smile more, love. ...</td>\n",
       "      <td>0</td>\n",
       "    </tr>\n",
       "    <tr>\n",
       "      <th>3295</th>\n",
       "      <td>@Mike_Fabricant “You should smile more, love. ...</td>\n",
       "      <td>0</td>\n",
       "    </tr>\n",
       "    <tr>\n",
       "      <th>3296</th>\n",
       "      <td>@Mike_Fabricant “You should smile more, love. ...</td>\n",
       "      <td>0</td>\n",
       "    </tr>\n",
       "    <tr>\n",
       "      <th>3297</th>\n",
       "      <td>@Mike_Fabricant “You should smile more, love. ...</td>\n",
       "      <td>0</td>\n",
       "    </tr>\n",
       "    <tr>\n",
       "      <th>3298</th>\n",
       "      <td>@Mike_Fabricant “You should smile more, love. ...</td>\n",
       "      <td>1</td>\n",
       "    </tr>\n",
       "    <tr>\n",
       "      <th>...</th>\n",
       "      <td>...</td>\n",
       "      <td>...</td>\n",
       "    </tr>\n",
       "    <tr>\n",
       "      <th>6223</th>\n",
       "      <td>@ElDukemane You look like a whore in ur new pi...</td>\n",
       "      <td>1</td>\n",
       "    </tr>\n",
       "    <tr>\n",
       "      <th>6224</th>\n",
       "      <td>@ElDukemane You look like a whore in ur new pi...</td>\n",
       "      <td>1</td>\n",
       "    </tr>\n",
       "    <tr>\n",
       "      <th>6225</th>\n",
       "      <td>@ElDukemane You look like a whore in ur new pi...</td>\n",
       "      <td>1</td>\n",
       "    </tr>\n",
       "    <tr>\n",
       "      <th>6226</th>\n",
       "      <td>@ElDukemane You look like a whore in ur new pi...</td>\n",
       "      <td>1</td>\n",
       "    </tr>\n",
       "    <tr>\n",
       "      <th>6227</th>\n",
       "      <td>@ElDukemane You look like a whore in ur new pi...</td>\n",
       "      <td>1</td>\n",
       "    </tr>\n",
       "  </tbody>\n",
       "</table>\n",
       "<p>2934 rows × 2 columns</p>\n",
       "</div>"
      ],
      "text/plain": [
       "                                                   text  label\n",
       "3294  @Mike_Fabricant “You should smile more, love. ...      0\n",
       "3295  @Mike_Fabricant “You should smile more, love. ...      0\n",
       "3296  @Mike_Fabricant “You should smile more, love. ...      0\n",
       "3297  @Mike_Fabricant “You should smile more, love. ...      0\n",
       "3298  @Mike_Fabricant “You should smile more, love. ...      1\n",
       "...                                                 ...    ...\n",
       "6223  @ElDukemane You look like a whore in ur new pi...      1\n",
       "6224  @ElDukemane You look like a whore in ur new pi...      1\n",
       "6225  @ElDukemane You look like a whore in ur new pi...      1\n",
       "6226  @ElDukemane You look like a whore in ur new pi...      1\n",
       "6227  @ElDukemane You look like a whore in ur new pi...      1\n",
       "\n",
       "[2934 rows x 2 columns]"
      ]
     },
     "execution_count": 18,
     "metadata": {},
     "output_type": "execute_result"
    }
   ],
   "source": [
    "val_set"
   ]
  },
  {
   "cell_type": "code",
   "execution_count": 19,
   "metadata": {},
   "outputs": [],
   "source": [
    "model =  AutoModelForSequenceClassification.from_pretrained('/u/athbagde/ML_CL/en_only_model1')\n",
    "tokenizer = AutoTokenizer.from_pretrained('/u/athbagde/ML_CL/en_only_model1')"
   ]
  },
  {
   "cell_type": "code",
   "execution_count": 20,
   "metadata": {},
   "outputs": [],
   "source": [
    "task_evaluator = evaluator(\"text-classification\")\n",
    "eval_results = task_evaluator.compute(\n",
    "    model_or_pipeline=model,\n",
    "    data=val_ds,\n",
    "    label_mapping={\"LABEL_0\": 0, \"LABEL_1\": 1},\n",
    "    tokenizer=tokenizer,\n",
    "    metric= metrics\n",
    ")"
   ]
  },
  {
   "cell_type": "code",
   "execution_count": 21,
   "metadata": {},
   "outputs": [
    {
     "name": "stdout",
     "output_type": "stream",
     "text": [
      "{'accuracy': 0.7706203135650989, 'f1': 0.7416506717850287, 'precision': 0.7453703703703703, 'recall': 0.7379679144385026, 'total_time_in_seconds': 32.353457474848256, 'samples_per_second': 90.68582553443962, 'latency_in_seconds': 0.011027081620602676}\n"
     ]
    }
   ],
   "source": [
    "print(eval_results)"
   ]
  },
  {
   "cell_type": "markdown",
   "metadata": {},
   "source": [
    "### M only model"
   ]
  },
  {
   "cell_type": "code",
   "execution_count": 22,
   "metadata": {},
   "outputs": [],
   "source": [
    "val_set = val_data.loc[val_data['sex']=='M']\n",
    "val_set = val_set[['text','s_label']]\n",
    "map_dict = {\"YES\":1,\"NO\":0}\n",
    "val_set['label'] = val_set['s_label'].map(map_dict)\n",
    "val_set = val_set[['text','label']]\n",
    "val_ds = Dataset.from_pandas(val_set)"
   ]
  },
  {
   "cell_type": "code",
   "execution_count": 23,
   "metadata": {},
   "outputs": [
    {
     "data": {
      "text/html": [
       "<div>\n",
       "<style scoped>\n",
       "    .dataframe tbody tr th:only-of-type {\n",
       "        vertical-align: middle;\n",
       "    }\n",
       "\n",
       "    .dataframe tbody tr th {\n",
       "        vertical-align: top;\n",
       "    }\n",
       "\n",
       "    .dataframe thead th {\n",
       "        text-align: right;\n",
       "    }\n",
       "</style>\n",
       "<table border=\"1\" class=\"dataframe\">\n",
       "  <thead>\n",
       "    <tr style=\"text-align: right;\">\n",
       "      <th></th>\n",
       "      <th>text</th>\n",
       "      <th>label</th>\n",
       "    </tr>\n",
       "  </thead>\n",
       "  <tbody>\n",
       "    <tr>\n",
       "      <th>3</th>\n",
       "      <td>@Fichinescu La comunidad gamer es un antro de ...</td>\n",
       "      <td>0</td>\n",
       "    </tr>\n",
       "    <tr>\n",
       "      <th>4</th>\n",
       "      <td>@Fichinescu La comunidad gamer es un antro de ...</td>\n",
       "      <td>1</td>\n",
       "    </tr>\n",
       "    <tr>\n",
       "      <th>5</th>\n",
       "      <td>@Fichinescu La comunidad gamer es un antro de ...</td>\n",
       "      <td>0</td>\n",
       "    </tr>\n",
       "    <tr>\n",
       "      <th>9</th>\n",
       "      <td>@anacaotica88 @MordorLivin No me acuerdo de lo...</td>\n",
       "      <td>1</td>\n",
       "    </tr>\n",
       "    <tr>\n",
       "      <th>10</th>\n",
       "      <td>@anacaotica88 @MordorLivin No me acuerdo de lo...</td>\n",
       "      <td>1</td>\n",
       "    </tr>\n",
       "    <tr>\n",
       "      <th>...</th>\n",
       "      <td>...</td>\n",
       "      <td>...</td>\n",
       "    </tr>\n",
       "    <tr>\n",
       "      <th>6220</th>\n",
       "      <td>@DawnAnd91320913 I haven't seen anything that ...</td>\n",
       "      <td>1</td>\n",
       "    </tr>\n",
       "    <tr>\n",
       "      <th>6221</th>\n",
       "      <td>@DawnAnd91320913 I haven't seen anything that ...</td>\n",
       "      <td>1</td>\n",
       "    </tr>\n",
       "    <tr>\n",
       "      <th>6225</th>\n",
       "      <td>@ElDukemane You look like a whore in ur new pi...</td>\n",
       "      <td>1</td>\n",
       "    </tr>\n",
       "    <tr>\n",
       "      <th>6226</th>\n",
       "      <td>@ElDukemane You look like a whore in ur new pi...</td>\n",
       "      <td>1</td>\n",
       "    </tr>\n",
       "    <tr>\n",
       "      <th>6227</th>\n",
       "      <td>@ElDukemane You look like a whore in ur new pi...</td>\n",
       "      <td>1</td>\n",
       "    </tr>\n",
       "  </tbody>\n",
       "</table>\n",
       "<p>3114 rows × 2 columns</p>\n",
       "</div>"
      ],
      "text/plain": [
       "                                                   text  label\n",
       "3     @Fichinescu La comunidad gamer es un antro de ...      0\n",
       "4     @Fichinescu La comunidad gamer es un antro de ...      1\n",
       "5     @Fichinescu La comunidad gamer es un antro de ...      0\n",
       "9     @anacaotica88 @MordorLivin No me acuerdo de lo...      1\n",
       "10    @anacaotica88 @MordorLivin No me acuerdo de lo...      1\n",
       "...                                                 ...    ...\n",
       "6220  @DawnAnd91320913 I haven't seen anything that ...      1\n",
       "6221  @DawnAnd91320913 I haven't seen anything that ...      1\n",
       "6225  @ElDukemane You look like a whore in ur new pi...      1\n",
       "6226  @ElDukemane You look like a whore in ur new pi...      1\n",
       "6227  @ElDukemane You look like a whore in ur new pi...      1\n",
       "\n",
       "[3114 rows x 2 columns]"
      ]
     },
     "execution_count": 23,
     "metadata": {},
     "output_type": "execute_result"
    }
   ],
   "source": [
    "val_set"
   ]
  },
  {
   "cell_type": "code",
   "execution_count": 24,
   "metadata": {},
   "outputs": [],
   "source": [
    "model =  AutoModelForSequenceClassification.from_pretrained('/u/athbagde/ML_CL/M_only_model1')\n",
    "tokenizer = AutoTokenizer.from_pretrained('/u/athbagde/ML_CL/M_only_model1')"
   ]
  },
  {
   "cell_type": "code",
   "execution_count": 25,
   "metadata": {},
   "outputs": [],
   "source": [
    "task_evaluator = evaluator(\"text-classification\")\n",
    "eval_results = task_evaluator.compute(\n",
    "    model_or_pipeline=model,\n",
    "    data=val_ds,\n",
    "    label_mapping={\"LABEL_0\": 0, \"LABEL_1\": 1},\n",
    "    tokenizer=tokenizer,\n",
    "    metric= metrics\n",
    ")"
   ]
  },
  {
   "cell_type": "code",
   "execution_count": 27,
   "metadata": {},
   "outputs": [
    {
     "name": "stdout",
     "output_type": "stream",
     "text": [
      "{'accuracy': 0.7392421323057161, 'f1': 0.7271505376344086, 'precision': 0.7213333333333334, 'recall': 0.7330623306233063, 'total_time_in_seconds': 35.0978658630047, 'samples_per_second': 88.72334324128656, 'latency_in_seconds': 0.011270990964356036}\n"
     ]
    }
   ],
   "source": [
    "print(eval_results)"
   ]
  },
  {
   "cell_type": "markdown",
   "metadata": {},
   "source": [
    "### F only model"
   ]
  },
  {
   "cell_type": "code",
   "execution_count": 28,
   "metadata": {},
   "outputs": [],
   "source": [
    "val_set = val_data.loc[val_data['sex']=='F']\n",
    "val_set = val_set[['text','s_label']]\n",
    "map_dict = {\"YES\":1,\"NO\":0}\n",
    "val_set['label'] = val_set['s_label'].map(map_dict)\n",
    "val_set = val_set[['text','label']]\n",
    "val_ds = Dataset.from_pandas(val_set)"
   ]
  },
  {
   "cell_type": "code",
   "execution_count": 29,
   "metadata": {},
   "outputs": [
    {
     "data": {
      "text/html": [
       "<div>\n",
       "<style scoped>\n",
       "    .dataframe tbody tr th:only-of-type {\n",
       "        vertical-align: middle;\n",
       "    }\n",
       "\n",
       "    .dataframe tbody tr th {\n",
       "        vertical-align: top;\n",
       "    }\n",
       "\n",
       "    .dataframe thead th {\n",
       "        text-align: right;\n",
       "    }\n",
       "</style>\n",
       "<table border=\"1\" class=\"dataframe\">\n",
       "  <thead>\n",
       "    <tr style=\"text-align: right;\">\n",
       "      <th></th>\n",
       "      <th>text</th>\n",
       "      <th>label</th>\n",
       "    </tr>\n",
       "  </thead>\n",
       "  <tbody>\n",
       "    <tr>\n",
       "      <th>0</th>\n",
       "      <td>@Fichinescu La comunidad gamer es un antro de ...</td>\n",
       "      <td>0</td>\n",
       "    </tr>\n",
       "    <tr>\n",
       "      <th>1</th>\n",
       "      <td>@Fichinescu La comunidad gamer es un antro de ...</td>\n",
       "      <td>1</td>\n",
       "    </tr>\n",
       "    <tr>\n",
       "      <th>2</th>\n",
       "      <td>@Fichinescu La comunidad gamer es un antro de ...</td>\n",
       "      <td>1</td>\n",
       "    </tr>\n",
       "    <tr>\n",
       "      <th>6</th>\n",
       "      <td>@anacaotica88 @MordorLivin No me acuerdo de lo...</td>\n",
       "      <td>1</td>\n",
       "    </tr>\n",
       "    <tr>\n",
       "      <th>7</th>\n",
       "      <td>@anacaotica88 @MordorLivin No me acuerdo de lo...</td>\n",
       "      <td>1</td>\n",
       "    </tr>\n",
       "    <tr>\n",
       "      <th>...</th>\n",
       "      <td>...</td>\n",
       "      <td>...</td>\n",
       "    </tr>\n",
       "    <tr>\n",
       "      <th>6217</th>\n",
       "      <td>@DawnAnd91320913 I haven't seen anything that ...</td>\n",
       "      <td>1</td>\n",
       "    </tr>\n",
       "    <tr>\n",
       "      <th>6218</th>\n",
       "      <td>@DawnAnd91320913 I haven't seen anything that ...</td>\n",
       "      <td>1</td>\n",
       "    </tr>\n",
       "    <tr>\n",
       "      <th>6222</th>\n",
       "      <td>@ElDukemane You look like a whore in ur new pi...</td>\n",
       "      <td>1</td>\n",
       "    </tr>\n",
       "    <tr>\n",
       "      <th>6223</th>\n",
       "      <td>@ElDukemane You look like a whore in ur new pi...</td>\n",
       "      <td>1</td>\n",
       "    </tr>\n",
       "    <tr>\n",
       "      <th>6224</th>\n",
       "      <td>@ElDukemane You look like a whore in ur new pi...</td>\n",
       "      <td>1</td>\n",
       "    </tr>\n",
       "  </tbody>\n",
       "</table>\n",
       "<p>3114 rows × 2 columns</p>\n",
       "</div>"
      ],
      "text/plain": [
       "                                                   text  label\n",
       "0     @Fichinescu La comunidad gamer es un antro de ...      0\n",
       "1     @Fichinescu La comunidad gamer es un antro de ...      1\n",
       "2     @Fichinescu La comunidad gamer es un antro de ...      1\n",
       "6     @anacaotica88 @MordorLivin No me acuerdo de lo...      1\n",
       "7     @anacaotica88 @MordorLivin No me acuerdo de lo...      1\n",
       "...                                                 ...    ...\n",
       "6217  @DawnAnd91320913 I haven't seen anything that ...      1\n",
       "6218  @DawnAnd91320913 I haven't seen anything that ...      1\n",
       "6222  @ElDukemane You look like a whore in ur new pi...      1\n",
       "6223  @ElDukemane You look like a whore in ur new pi...      1\n",
       "6224  @ElDukemane You look like a whore in ur new pi...      1\n",
       "\n",
       "[3114 rows x 2 columns]"
      ]
     },
     "execution_count": 29,
     "metadata": {},
     "output_type": "execute_result"
    }
   ],
   "source": [
    "val_set"
   ]
  },
  {
   "cell_type": "code",
   "execution_count": 30,
   "metadata": {},
   "outputs": [],
   "source": [
    "model =  AutoModelForSequenceClassification.from_pretrained('/u/athbagde/ML_CL/F_only_model1')\n",
    "tokenizer = AutoTokenizer.from_pretrained('/u/athbagde/ML_CL/F_only_model1')"
   ]
  },
  {
   "cell_type": "code",
   "execution_count": 31,
   "metadata": {},
   "outputs": [],
   "source": [
    "task_evaluator = evaluator(\"text-classification\")\n",
    "eval_results = task_evaluator.compute(\n",
    "    model_or_pipeline=model,\n",
    "    data=val_ds,\n",
    "    label_mapping={\"LABEL_0\": 0, \"LABEL_1\": 1},\n",
    "    tokenizer=tokenizer,\n",
    "    metric= metrics\n",
    ")"
   ]
  },
  {
   "cell_type": "code",
   "execution_count": 32,
   "metadata": {},
   "outputs": [
    {
     "name": "stdout",
     "output_type": "stream",
     "text": [
      "{'accuracy': 0.75208734746307, 'f1': 0.7504848093083387, 'precision': 0.7385496183206107, 'recall': 0.7628120893561103, 'total_time_in_seconds': 35.31043099309318, 'samples_per_second': 88.18923792261577, 'latency_in_seconds': 0.011339252085129472}\n"
     ]
    }
   ],
   "source": [
    "print(eval_results)"
   ]
  },
  {
   "cell_type": "code",
   "execution_count": null,
   "metadata": {},
   "outputs": [],
   "source": []
  }
 ],
 "metadata": {
  "kernelspec": {
   "display_name": "Python 3.10.10 ('CL': conda)",
   "language": "python",
   "name": "python3"
  },
  "language_info": {
   "codemirror_mode": {
    "name": "ipython",
    "version": 3
   },
   "file_extension": ".py",
   "mimetype": "text/x-python",
   "name": "python",
   "nbconvert_exporter": "python",
   "pygments_lexer": "ipython3",
   "version": "3.10.10"
  },
  "orig_nbformat": 4,
  "vscode": {
   "interpreter": {
    "hash": "144db592f898f4a1fdccb3fa4405f83965ee94c5e32db6cfe92cd1e46e5e1dd9"
   }
  }
 },
 "nbformat": 4,
 "nbformat_minor": 2
}
